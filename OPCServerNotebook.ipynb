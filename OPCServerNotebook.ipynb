{
 "cells": [
  {
   "cell_type": "markdown",
   "metadata": {},
   "source": [
    "## Install Requirements"
   ]
  },
  {
   "cell_type": "code",
   "execution_count": 10,
   "metadata": {},
   "outputs": [
    {
     "name": "stdout",
     "output_type": "stream",
     "text": [
      "Requirement already satisfied: opcua in c:\\python312\\lib\\site-packages (0.98.13)\n",
      "Requirement already satisfied: lxml in c:\\python312\\lib\\site-packages (from opcua) (5.1.0)\n",
      "Requirement already satisfied: python-dateutil in c:\\python312\\lib\\site-packages (from opcua) (2.9.0)\n",
      "Requirement already satisfied: pytz in c:\\python312\\lib\\site-packages (from opcua) (2024.1)\n",
      "Requirement already satisfied: six>=1.5 in c:\\python312\\lib\\site-packages (from python-dateutil->opcua) (1.16.0)\n"
     ]
    }
   ],
   "source": [
    "!pip install opcua"
   ]
  },
  {
   "cell_type": "markdown",
   "metadata": {},
   "source": [
    "## Config OPC UA Server"
   ]
  },
  {
   "cell_type": "code",
   "execution_count": 11,
   "metadata": {},
   "outputs": [],
   "source": [
    "from opcua import Server\n",
    "\n",
    "server = Server()\n",
    "url = \"opc.tcp://localhost:4840\"\n",
    "server.set_endpoint(url)\n",
    "\n",
    "uri = \"http://example.org\"\n",
    "idx = server.register_namespace(uri)\n",
    "\n",
    "\n",
    "nodes = [\n",
    "    {\n",
    "        'ObjectID': 'ns=1;s=TestObject1',\n",
    "        'Nodes': [\n",
    "            {\n",
    "                'NodeID': 'ns=1;s=TestObject1.TestNode1',\n",
    "                'InitialValue': 0,\n",
    "                'DataType': 'Int16',\n",
    "                'MaxValue': 100,\n",
    "                'MinValue': 0\n",
    "            },\n",
    "            {\n",
    "                'NodeID': 'ns=1;s=TestObject1.TestNode2',\n",
    "                'InitialValue': 0.0,\n",
    "                'DataType': 'Float',\n",
    "                'MaxValue': 10.0,\n",
    "                'MinValue': 0.0\n",
    "            },\n",
    "            {\n",
    "                'NodeID': 'ns=1;s=TestObject1.TestNode3',\n",
    "                'InitialValue': 0,\n",
    "                'DataType': 'Int16',\n",
    "                'MaxValue': 100,\n",
    "                'MinValue': 0\n",
    "            },\n",
    "            {\n",
    "                'NodeID': 'ns=1;s=TestObject1.TestNode4',\n",
    "                'InitialValue': 0.0,\n",
    "                'DataType': 'Float',\n",
    "                'MaxValue': 10.0,\n",
    "                'MinValue': 0.0\n",
    "            }\n",
    "        ]\n",
    "    },\n",
    "    {\n",
    "        'ObjectID': 'ns=1;s=TestObject2',\n",
    "        'Nodes': [\n",
    "            {\n",
    "                'NodeID': 'ns=1;s=TestObject2.TestNode1',\n",
    "                'InitialValue': 0,\n",
    "                'DataType': 'Int16',\n",
    "                'MaxValue': 100,\n",
    "                'MinValue': 0\n",
    "            },\n",
    "            {\n",
    "                'NodeID': 'ns=1;s=TestObject2.TestNode2',\n",
    "                'InitialValue': 0.0,\n",
    "                'DataType': 'Float',\n",
    "                'MaxValue': 10.0,\n",
    "                'MinValue': 0.0\n",
    "            },\n",
    "            {\n",
    "                'NodeID': 'ns=1;s=TestObject2.TestNode3',\n",
    "                'InitialValue': 0,\n",
    "                'DataType': 'Int16',\n",
    "                'MaxValue': 100,\n",
    "                'MinValue': 0\n",
    "            },\n",
    "            {\n",
    "                'NodeID': 'ns=1;s=TestObject2.TestNode4',\n",
    "                'InitialValue': 0.0,\n",
    "                'DataType': 'Float',\n",
    "                'MaxValue': 10.0,\n",
    "                'MinValue': 0.0\n",
    "            }\n",
    "        ]\n",
    "    },\n",
    "]"
   ]
  },
  {
   "cell_type": "markdown",
   "metadata": {},
   "source": [
    "## Set Nodes on OPC UA Server"
   ]
  },
  {
   "cell_type": "code",
   "execution_count": 12,
   "metadata": {},
   "outputs": [],
   "source": [
    "for node in nodes:\n",
    "    obj = server.nodes.objects.add_object(idx, node[\"ObjectID\"])\n",
    "    for node in node['Nodes']:\n",
    "        node_id = node['NodeID']\n",
    "        initial_value = node['InitialValue']\n",
    "        opc_var = obj.add_variable(idx, node_id, initial_value)\n",
    "        opc_var.set_writable(True)\n"
   ]
  },
  {
   "cell_type": "markdown",
   "metadata": {},
   "source": [
    "## Start Server"
   ]
  },
  {
   "cell_type": "code",
   "execution_count": null,
   "metadata": {},
   "outputs": [
    {
     "name": "stderr",
     "output_type": "stream",
     "text": [
      "Endpoints other than open requested but private key and certificate are not set.\n",
      "Listening on localhost:4840\n"
     ]
    },
    {
     "name": "stderr",
     "output_type": "stream",
     "text": [
      "Tried to read attribute '14' in FourByteNodeId(i=2004), but the attribute is missing\n",
      "Tried to read attribute '15' in FourByteNodeId(i=2004), but the attribute is missing\n",
      "Tried to read attribute '16' in FourByteNodeId(i=2004), but the attribute is missing\n",
      "Tried to read attribute '10' in FourByteNodeId(i=2004), but the attribute is missing\n",
      "Tried to read attribute '14' in TwoByteNodeId(i=58), but the attribute is missing\n",
      "Tried to read attribute '15' in TwoByteNodeId(i=58), but the attribute is missing\n",
      "Tried to read attribute '16' in TwoByteNodeId(i=58), but the attribute is missing\n",
      "Tried to read attribute '10' in TwoByteNodeId(i=58), but the attribute is missing\n",
      "Tried to read attribute '10' in FourByteNodeId(ns=2;i=2), but the attribute is missing\n",
      "Tried to read attribute '10' in FourByteNodeId(ns=2;i=3), but the attribute is missing\n",
      "Tried to read attribute '10' in FourByteNodeId(ns=2;i=4), but the attribute is missing\n",
      "Tried to read attribute '10' in FourByteNodeId(ns=2;i=5), but the attribute is missing\n",
      "Tried to read attribute '10' in FourByteNodeId(ns=2;i=7), but the attribute is missing\n",
      "Tried to read attribute '10' in FourByteNodeId(ns=2;i=8), but the attribute is missing\n",
      "Tried to read attribute '10' in FourByteNodeId(ns=2;i=9), but the attribute is missing\n",
      "Tried to read attribute '10' in FourByteNodeId(ns=2;i=10), but the attribute is missing\n"
     ]
    }
   ],
   "source": [
    "server.start()"
   ]
  },
  {
   "cell_type": "markdown",
   "metadata": {},
   "source": [
    "## Stop Server"
   ]
  },
  {
   "cell_type": "code",
   "execution_count": 9,
   "metadata": {},
   "outputs": [],
   "source": [
    "server.stop()"
   ]
  },
  {
   "cell_type": "markdown",
   "metadata": {},
   "source": [
    "## Start Simulation"
   ]
  },
  {
   "cell_type": "code",
   "execution_count": 14,
   "metadata": {},
   "outputs": [
    {
     "name": "stdout",
     "output_type": "stream",
     "text": [
      "ns=1;s=TestObject1.TestNode1\n"
     ]
    },
    {
     "ename": "BadNodeIdUnknown",
     "evalue": "\"The node id refers to a node that does not exist in the server address space.\"(BadNodeIdUnknown)",
     "output_type": "error",
     "traceback": [
      "\u001b[1;31m---------------------------------------------------------------------------\u001b[0m",
      "\u001b[1;31mBadNodeIdUnknown\u001b[0m                          Traceback (most recent call last)",
      "Cell \u001b[1;32mIn[14], line 5\u001b[0m\n\u001b[0;32m      3\u001b[0m \u001b[38;5;28;01mfor\u001b[39;00m node \u001b[38;5;129;01min\u001b[39;00m objects[\u001b[38;5;124m'\u001b[39m\u001b[38;5;124mNodes\u001b[39m\u001b[38;5;124m'\u001b[39m]:\n\u001b[0;32m      4\u001b[0m     \u001b[38;5;28mprint\u001b[39m(node[\u001b[38;5;124m'\u001b[39m\u001b[38;5;124mNodeID\u001b[39m\u001b[38;5;124m'\u001b[39m])\n\u001b[1;32m----> 5\u001b[0m     \u001b[43mserver\u001b[49m\u001b[38;5;241;43m.\u001b[39;49m\u001b[43mget_node\u001b[49m\u001b[43m(\u001b[49m\u001b[43mnode\u001b[49m\u001b[43m[\u001b[49m\u001b[38;5;124;43m'\u001b[39;49m\u001b[38;5;124;43mNodeID\u001b[39;49m\u001b[38;5;124;43m'\u001b[39;49m\u001b[43m]\u001b[49m\u001b[43m)\u001b[49m\u001b[38;5;241;43m.\u001b[39;49m\u001b[43mset_value\u001b[49m\u001b[43m(\u001b[49m\u001b[43mrandom\u001b[49m\u001b[38;5;241;43m.\u001b[39;49m\u001b[43mrandint\u001b[49m\u001b[43m(\u001b[49m\u001b[38;5;241;43m1\u001b[39;49m\u001b[43m,\u001b[49m\u001b[43m \u001b[49m\u001b[38;5;241;43m7\u001b[39;49m\u001b[43m)\u001b[49m\u001b[43m)\u001b[49m\n",
      "File \u001b[1;32mc:\\Python312\\Lib\\site-packages\\opcua\\common\\node.py:217\u001b[0m, in \u001b[0;36mNode.set_value\u001b[1;34m(self, value, varianttype)\u001b[0m\n\u001b[0;32m    215\u001b[0m     datavalue \u001b[38;5;241m=\u001b[39m ua\u001b[38;5;241m.\u001b[39mDataValue(ua\u001b[38;5;241m.\u001b[39mVariant(value, varianttype))\n\u001b[0;32m    216\u001b[0m     datavalue\u001b[38;5;241m.\u001b[39mSourceTimestamp \u001b[38;5;241m=\u001b[39m datetime\u001b[38;5;241m.\u001b[39mutcnow()\n\u001b[1;32m--> 217\u001b[0m \u001b[38;5;28;43mself\u001b[39;49m\u001b[38;5;241;43m.\u001b[39;49m\u001b[43mset_attribute\u001b[49m\u001b[43m(\u001b[49m\u001b[43mua\u001b[49m\u001b[38;5;241;43m.\u001b[39;49m\u001b[43mAttributeIds\u001b[49m\u001b[38;5;241;43m.\u001b[39;49m\u001b[43mValue\u001b[49m\u001b[43m,\u001b[49m\u001b[43m \u001b[49m\u001b[43mdatavalue\u001b[49m\u001b[43m)\u001b[49m\n",
      "File \u001b[1;32mc:\\Python312\\Lib\\site-packages\\opcua\\common\\node.py:263\u001b[0m, in \u001b[0;36mNode.set_attribute\u001b[1;34m(self, attributeid, datavalue)\u001b[0m\n\u001b[0;32m    261\u001b[0m params\u001b[38;5;241m.\u001b[39mNodesToWrite \u001b[38;5;241m=\u001b[39m [attr]\n\u001b[0;32m    262\u001b[0m result \u001b[38;5;241m=\u001b[39m \u001b[38;5;28mself\u001b[39m\u001b[38;5;241m.\u001b[39mserver\u001b[38;5;241m.\u001b[39mwrite(params)\n\u001b[1;32m--> 263\u001b[0m \u001b[43mresult\u001b[49m\u001b[43m[\u001b[49m\u001b[38;5;241;43m0\u001b[39;49m\u001b[43m]\u001b[49m\u001b[38;5;241;43m.\u001b[39;49m\u001b[43mcheck\u001b[49m\u001b[43m(\u001b[49m\u001b[43m)\u001b[49m\n",
      "File \u001b[1;32mc:\\Python312\\Lib\\site-packages\\opcua\\ua\\uatypes.py:218\u001b[0m, in \u001b[0;36mStatusCode.check\u001b[1;34m(self)\u001b[0m\n\u001b[0;32m    212\u001b[0m \u001b[38;5;250m\u001b[39m\u001b[38;5;124;03m\"\"\"\u001b[39;00m\n\u001b[0;32m    213\u001b[0m \u001b[38;5;124;03mRaises an exception if the status code is anything else than 0 (good).\u001b[39;00m\n\u001b[0;32m    214\u001b[0m \n\u001b[0;32m    215\u001b[0m \u001b[38;5;124;03mUse the is_good() method if you do not want an exception.\u001b[39;00m\n\u001b[0;32m    216\u001b[0m \u001b[38;5;124;03m\"\"\"\u001b[39;00m\n\u001b[0;32m    217\u001b[0m \u001b[38;5;28;01mif\u001b[39;00m \u001b[38;5;129;01mnot\u001b[39;00m \u001b[38;5;28mself\u001b[39m\u001b[38;5;241m.\u001b[39mis_good():\n\u001b[1;32m--> 218\u001b[0m     \u001b[38;5;28;01mraise\u001b[39;00m UaStatusCodeError(\u001b[38;5;28mself\u001b[39m\u001b[38;5;241m.\u001b[39mvalue)\n",
      "\u001b[1;31mBadNodeIdUnknown\u001b[0m: \"The node id refers to a node that does not exist in the server address space.\"(BadNodeIdUnknown)"
     ]
    }
   ],
   "source": [
    "import random\n",
    "for objects in nodes:\n",
    "    for node in objects['Nodes']:\n",
    "        print(node['NodeID'])\n",
    "        server.get_node(node['NodeID']).set_value(\"123\")\n",
    "\n"
   ]
  },
  {
   "cell_type": "code",
   "execution_count": null,
   "metadata": {},
   "outputs": [],
   "source": []
  }
 ],
 "metadata": {
  "kernelspec": {
   "display_name": "Python 3",
   "language": "python",
   "name": "python3"
  },
  "language_info": {
   "codemirror_mode": {
    "name": "ipython",
    "version": 3
   },
   "file_extension": ".py",
   "mimetype": "text/x-python",
   "name": "python",
   "nbconvert_exporter": "python",
   "pygments_lexer": "ipython3",
   "version": "3.12.2"
  }
 },
 "nbformat": 4,
 "nbformat_minor": 2
}
