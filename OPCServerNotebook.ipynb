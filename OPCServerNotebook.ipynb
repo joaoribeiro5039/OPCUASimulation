{
 "cells": [
  {
   "cell_type": "markdown",
   "metadata": {},
   "source": [
    "## Install Requirements"
   ]
  },
  {
   "cell_type": "code",
   "execution_count": null,
   "metadata": {},
   "outputs": [],
   "source": [
    "!pip install opcua"
   ]
  },
  {
   "cell_type": "markdown",
   "metadata": {},
   "source": [
    "## Config OPC UA Server"
   ]
  },
  {
   "cell_type": "code",
   "execution_count": null,
   "metadata": {},
   "outputs": [],
   "source": [
    "from opcua import ua, Server\n",
    "\n",
    "server = Server()\n",
    "url = \"opc.tcp://localhost:4840\"\n",
    "server.set_endpoint(url)\n",
    "\n",
    "uri = \"http://example.org\"\n",
    "idx = server.register_namespace(uri)\n",
    "\n",
    "\n",
    "nodes = [\n",
    "    {\n",
    "        'ObjectID': 'ns=1;s=TestObject1',\n",
    "        'Name': \"TestObject1\",\n",
    "        'Nodes': [\n",
    "            {\n",
    "                'NodeID': 'ns=1;s=TestObject1.TestNode1',\n",
    "                'Name': \"TestObject1.TestNode1\",\n",
    "                'InitialValue': 0,\n",
    "                'DataType': 'Int16',\n",
    "                'MaxValue': 100,\n",
    "                'MinValue': 0\n",
    "            },\n",
    "            {\n",
    "                'NodeID': 'ns=1;s=TestObject1.TestNode2',\n",
    "                'Name': \"TestObject1.TestNode2\",\n",
    "                'InitialValue': 0.5,\n",
    "                'DataType': 'Float',\n",
    "                'MaxValue': 10.0,\n",
    "                'MinValue': 0.0\n",
    "            },\n",
    "            {\n",
    "                'NodeID': 'ns=1;s=TestObject1.TestNode3',\n",
    "                'Name': \"TestObject1.TestNode3\",\n",
    "                'InitialValue': 0,\n",
    "                'DataType': 'Int16',\n",
    "                'MaxValue': 100,\n",
    "                'MinValue': 0\n",
    "            },\n",
    "            {\n",
    "                'NodeID': 'ns=1;s=TestObject1.TestNode4',\n",
    "                'Name': \"TestObject1.TestNode4\",\n",
    "                'InitialValue': 0.5,\n",
    "                'DataType': 'Float',\n",
    "                'MaxValue': 10.0,\n",
    "                'MinValue': 0.0\n",
    "            }\n",
    "        ]\n",
    "    },\n",
    "    {\n",
    "        'ObjectID': 'ns=1;s=TestObject2',\n",
    "        'Name': \"TestObject2\",\n",
    "        'Nodes': [\n",
    "            {\n",
    "                'NodeID': 'ns=1;s=TestObject2.TestNode1',\n",
    "                'Name': \"TestObject2.TestNode1\",\n",
    "                'InitialValue': 0,\n",
    "                'DataType': 'Int16',\n",
    "                'MaxValue': 100,\n",
    "                'MinValue': 0\n",
    "            },\n",
    "            {\n",
    "                'NodeID': 'ns=1;s=TestObject2.TestNode2',\n",
    "                'Name': \"TestObject2.TestNode2\",\n",
    "                'InitialValue': 0.5,\n",
    "                'DataType': 'Float',\n",
    "                'MaxValue': 10.0,\n",
    "                'MinValue': 0.0\n",
    "            },\n",
    "            {\n",
    "                'NodeID': 'ns=1;s=TestObject2.TestNode3',\n",
    "                'Name': \"TestObject2.TestNode3\",\n",
    "                'InitialValue': 0,\n",
    "                'DataType': 'Int16',\n",
    "                'MaxValue': 100,\n",
    "                'MinValue': 0\n",
    "            },\n",
    "            {\n",
    "                'NodeID': 'ns=1;s=TestObject2.TestNode4',\n",
    "                'Name': \"TestObject2.TestNode4\",\n",
    "                'InitialValue': 0.5,\n",
    "                'DataType': 'Float',\n",
    "                'MaxValue': 10.0,\n",
    "                'MinValue': 0.0\n",
    "            }\n",
    "        ]\n",
    "    },\n",
    "]"
   ]
  },
  {
   "cell_type": "markdown",
   "metadata": {},
   "source": [
    "## Set Nodes on OPC UA Server"
   ]
  },
  {
   "cell_type": "code",
   "execution_count": null,
   "metadata": {},
   "outputs": [],
   "source": [
    "for node in nodes:\n",
    "    obj = server.nodes.objects.add_object(node[\"ObjectID\"], node[\"Name\"])\n",
    "    for node in node['Nodes']:\n",
    "        node_id = node['NodeID']\n",
    "        node_name = node['Name']\n",
    "        initial_value = node['InitialValue']\n",
    "        print(node_id)\n",
    "        if node['DataType'] == 'Int16':\n",
    "            opc_var = obj.add_variable(node_id, node_name, initial_value, ua.VariantType.Int16)\n",
    "        elif node['DataType'] == 'Int32':\n",
    "            opc_var = obj.add_variable(node_id, node_name, initial_value, ua.VariantType.Int32)\n",
    "        elif node['DataType'] == 'Int64':\n",
    "            opc_var = obj.add_variable(node_id, node_name, initial_value, ua.VariantType.Int64)\n",
    "        elif node['DataType'] == 'Float':\n",
    "            opc_var = obj.add_variable(node_id, node_name, initial_value, ua.VariantType.Float)\n",
    "        elif node['DataType'] == 'String':\n",
    "            opc_var = obj.add_variable(node_id, node_name, initial_value, ua.VariantType.String)\n",
    "        opc_var.set_writable(True)\n"
   ]
  },
  {
   "cell_type": "markdown",
   "metadata": {},
   "source": [
    "## Start Server"
   ]
  },
  {
   "cell_type": "code",
   "execution_count": null,
   "metadata": {},
   "outputs": [],
   "source": [
    "server.start()"
   ]
  },
  {
   "cell_type": "markdown",
   "metadata": {},
   "source": [
    "## Stop Server"
   ]
  },
  {
   "cell_type": "code",
   "execution_count": null,
   "metadata": {},
   "outputs": [],
   "source": [
    "server.stop()"
   ]
  },
  {
   "cell_type": "markdown",
   "metadata": {},
   "source": [
    "## Onde Click Simulation"
   ]
  },
  {
   "cell_type": "code",
   "execution_count": null,
   "metadata": {},
   "outputs": [],
   "source": [
    "import random\n",
    "\n",
    "for node in nodes:\n",
    "    for node in node['Nodes']:\n",
    "        node_id = node['NodeID']\n",
    "        opc_var = server.get_node(node_id)\n",
    "        \n",
    "        if node['DataType'] == 'Int16':\n",
    "            server.get_node(opc_var).set_value(random.randint(node['MinValue'], node['MaxValue']), ua.VariantType.Int16)\n",
    "        elif node['DataType'] == 'Int32':\n",
    "            server.get_node(opc_var).set_value(random.randint(node['MinValue'], node['MaxValue']), ua.VariantType.Int32)\n",
    "        elif node['DataType'] == 'Int64':\n",
    "            server.get_node(opc_var).set_value(random.randint(node['MinValue'], node['MaxValue']), ua.VariantType.Int64)\n",
    "        elif node['DataType'] == 'Float':\n",
    "            min = int(node['MinValue']*100)\n",
    "            max = int(node['MaxValue']*100)\n",
    "            var = random.randint(min, max)/100\n",
    "            server.get_node(opc_var).set_value(var, ua.VariantType.Float)\n",
    "            "
   ]
  }
 ],
 "metadata": {
  "kernelspec": {
   "display_name": "Python 3",
   "language": "python",
   "name": "python3"
  },
  "language_info": {
   "codemirror_mode": {
    "name": "ipython",
    "version": 3
   },
   "file_extension": ".py",
   "mimetype": "text/x-python",
   "name": "python",
   "nbconvert_exporter": "python",
   "pygments_lexer": "ipython3",
   "version": "3.12.2"
  }
 },
 "nbformat": 4,
 "nbformat_minor": 2
}
